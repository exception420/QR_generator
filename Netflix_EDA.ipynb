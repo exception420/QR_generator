{
  "nbformat": 4,
  "nbformat_minor": 0,
  "metadata": {
    "colab": {
      "name": "Netflix-EDA.ipynb",
      "provenance": [],
      "authorship_tag": "ABX9TyMaUekAUSCyp/G1s1GmEXzC",
      "include_colab_link": true
    },
    "kernelspec": {
      "name": "python3",
      "display_name": "Python 3"
    },
    "language_info": {
      "name": "python"
    }
  },
  "cells": [
    {
      "cell_type": "markdown",
      "metadata": {
        "id": "view-in-github",
        "colab_type": "text"
      },
      "source": [
        "<a href=\"https://colab.research.google.com/github/exception420/QR_generator/blob/main/Netflix_EDA.ipynb\" target=\"_parent\"><img src=\"https://colab.research.google.com/assets/colab-badge.svg\" alt=\"Open In Colab\"/></a>"
      ]
    },
    {
      "cell_type": "markdown",
      "metadata": {
        "id": "_jcGonvrvZ3H"
      },
      "source": [
        "#Analysis on Netflix Movies and TV Shows"
      ]
    },
    {
      "cell_type": "markdown",
      "metadata": {
        "id": "Ro6jw0DQvloY"
      },
      "source": [
        "Netflix is a popular service that people across the world use for entertainment. In this EDA, I will explore the netflix-shows dataset through visualisations and graphs using matplotlib and seaborn."
      ]
    },
    {
      "cell_type": "markdown",
      "metadata": {
        "id": "MBBQ16hPv-7B"
      },
      "source": [
        "## Package Install and Import\n",
        "First, we will install and import necessary packages."
      ]
    },
    {
      "cell_type": "code",
      "metadata": {
        "id": "TX6woNOCwIIm"
      },
      "source": [
        "import pandas as pd\n",
        "import numpy as np\n",
        "import matplotlib.pyplot as plt\n",
        "import seaborn as sns\n",
        "%matplotlib inline\n",
        "import matplotlib"
      ],
      "execution_count": null,
      "outputs": []
    },
    {
      "cell_type": "markdown",
      "metadata": {
        "id": "7lK7TQSzwedw"
      },
      "source": [
        "## Loading the Dataset"
      ]
    },
    {
      "cell_type": "markdown",
      "metadata": {
        "id": "K6Kh5PuewlS9"
      },
      "source": [
        "Now we are ready to load the dataset. We will do this using the standard read_csv command from Pandas. Let's take a glimpse at how the data look like."
      ]
    },
    {
      "cell_type": "code",
      "metadata": {
        "id": "HcKZpC7Oq-Rb"
      },
      "source": [
        "!wget -q https://raw.githubusercontent.com/exception420/files/main/netflix_titles.csv\n",
        "\n"
      ],
      "execution_count": null,
      "outputs": []
    },
    {
      "cell_type": "code",
      "metadata": {
        "colab": {
          "base_uri": "https://localhost:8080/",
          "height": 279
        },
        "id": "48xu3Kjiw19Q",
        "outputId": "0050482e-fe82-4d59-8dd6-93786d6aa28e"
      },
      "source": [
        "netflix_titles_df = pd.read_csv('netflix_titles.csv')\n",
        "netflix_titles_df.head()"
      ],
      "execution_count": null,
      "outputs": [
        {
          "output_type": "execute_result",
          "data": {
            "text/html": [
              "<div>\n",
              "<style scoped>\n",
              "    .dataframe tbody tr th:only-of-type {\n",
              "        vertical-align: middle;\n",
              "    }\n",
              "\n",
              "    .dataframe tbody tr th {\n",
              "        vertical-align: top;\n",
              "    }\n",
              "\n",
              "    .dataframe thead th {\n",
              "        text-align: right;\n",
              "    }\n",
              "</style>\n",
              "<table border=\"1\" class=\"dataframe\">\n",
              "  <thead>\n",
              "    <tr style=\"text-align: right;\">\n",
              "      <th></th>\n",
              "      <th>show_id</th>\n",
              "      <th>type</th>\n",
              "      <th>title</th>\n",
              "      <th>director</th>\n",
              "      <th>cast</th>\n",
              "      <th>country</th>\n",
              "      <th>date_added</th>\n",
              "      <th>release_year</th>\n",
              "      <th>rating</th>\n",
              "      <th>duration</th>\n",
              "      <th>listed_in</th>\n",
              "      <th>description</th>\n",
              "    </tr>\n",
              "  </thead>\n",
              "  <tbody>\n",
              "    <tr>\n",
              "      <th>0</th>\n",
              "      <td>s1</td>\n",
              "      <td>TV Show</td>\n",
              "      <td>3%</td>\n",
              "      <td>NaN</td>\n",
              "      <td>João Miguel, Bianca Comparato, Michel Gomes, R...</td>\n",
              "      <td>Brazil</td>\n",
              "      <td>August 14, 2020</td>\n",
              "      <td>2020</td>\n",
              "      <td>TV-MA</td>\n",
              "      <td>4 Seasons</td>\n",
              "      <td>International TV Shows, TV Dramas, TV Sci-Fi &amp;...</td>\n",
              "      <td>In a future where the elite inhabit an island ...</td>\n",
              "    </tr>\n",
              "    <tr>\n",
              "      <th>1</th>\n",
              "      <td>s2</td>\n",
              "      <td>Movie</td>\n",
              "      <td>7:19</td>\n",
              "      <td>Jorge Michel Grau</td>\n",
              "      <td>Demián Bichir, Héctor Bonilla, Oscar Serrano, ...</td>\n",
              "      <td>Mexico</td>\n",
              "      <td>December 23, 2016</td>\n",
              "      <td>2016</td>\n",
              "      <td>TV-MA</td>\n",
              "      <td>93 min</td>\n",
              "      <td>Dramas, International Movies</td>\n",
              "      <td>After a devastating earthquake hits Mexico Cit...</td>\n",
              "    </tr>\n",
              "    <tr>\n",
              "      <th>2</th>\n",
              "      <td>s3</td>\n",
              "      <td>Movie</td>\n",
              "      <td>23:59</td>\n",
              "      <td>Gilbert Chan</td>\n",
              "      <td>Tedd Chan, Stella Chung, Henley Hii, Lawrence ...</td>\n",
              "      <td>Singapore</td>\n",
              "      <td>December 20, 2018</td>\n",
              "      <td>2011</td>\n",
              "      <td>R</td>\n",
              "      <td>78 min</td>\n",
              "      <td>Horror Movies, International Movies</td>\n",
              "      <td>When an army recruit is found dead, his fellow...</td>\n",
              "    </tr>\n",
              "    <tr>\n",
              "      <th>3</th>\n",
              "      <td>s4</td>\n",
              "      <td>Movie</td>\n",
              "      <td>9</td>\n",
              "      <td>Shane Acker</td>\n",
              "      <td>Elijah Wood, John C. Reilly, Jennifer Connelly...</td>\n",
              "      <td>United States</td>\n",
              "      <td>November 16, 2017</td>\n",
              "      <td>2009</td>\n",
              "      <td>PG-13</td>\n",
              "      <td>80 min</td>\n",
              "      <td>Action &amp; Adventure, Independent Movies, Sci-Fi...</td>\n",
              "      <td>In a postapocalyptic world, rag-doll robots hi...</td>\n",
              "    </tr>\n",
              "    <tr>\n",
              "      <th>4</th>\n",
              "      <td>s5</td>\n",
              "      <td>Movie</td>\n",
              "      <td>21</td>\n",
              "      <td>Robert Luketic</td>\n",
              "      <td>Jim Sturgess, Kevin Spacey, Kate Bosworth, Aar...</td>\n",
              "      <td>United States</td>\n",
              "      <td>January 1, 2020</td>\n",
              "      <td>2008</td>\n",
              "      <td>PG-13</td>\n",
              "      <td>123 min</td>\n",
              "      <td>Dramas</td>\n",
              "      <td>A brilliant group of students become card-coun...</td>\n",
              "    </tr>\n",
              "  </tbody>\n",
              "</table>\n",
              "</div>"
            ],
            "text/plain": [
              "  show_id  ...                                        description\n",
              "0      s1  ...  In a future where the elite inhabit an island ...\n",
              "1      s2  ...  After a devastating earthquake hits Mexico Cit...\n",
              "2      s3  ...  When an army recruit is found dead, his fellow...\n",
              "3      s4  ...  In a postapocalyptic world, rag-doll robots hi...\n",
              "4      s5  ...  A brilliant group of students become card-coun...\n",
              "\n",
              "[5 rows x 12 columns]"
            ]
          },
          "metadata": {
            "tags": []
          },
          "execution_count": 3
        }
      ]
    },
    {
      "cell_type": "markdown",
      "metadata": {
        "id": "lLqhuuqVx9hR"
      },
      "source": [
        "After a quick glimpse at the dataset, it looks like a typical movies/shows dataset without user ratings. We can also see that there are NaN values in some columns."
      ]
    },
    {
      "cell_type": "markdown",
      "metadata": {
        "id": "VcJ_S10hyNW2"
      },
      "source": [
        "## Data Preparation and Cleaning"
      ]
    },
    {
      "cell_type": "code",
      "metadata": {
        "colab": {
          "base_uri": "https://localhost:8080/"
        },
        "id": "RsokjsmpyQqr",
        "outputId": "781eea99-df41-4f34-f1ca-542b357fc28b"
      },
      "source": [
        "netflix_titles_df.info()"
      ],
      "execution_count": null,
      "outputs": [
        {
          "output_type": "stream",
          "text": [
            "<class 'pandas.core.frame.DataFrame'>\n",
            "RangeIndex: 7787 entries, 0 to 7786\n",
            "Data columns (total 12 columns):\n",
            " #   Column        Non-Null Count  Dtype \n",
            "---  ------        --------------  ----- \n",
            " 0   show_id       7787 non-null   object\n",
            " 1   type          7787 non-null   object\n",
            " 2   title         7787 non-null   object\n",
            " 3   director      5398 non-null   object\n",
            " 4   cast          7069 non-null   object\n",
            " 5   country       7280 non-null   object\n",
            " 6   date_added    7777 non-null   object\n",
            " 7   release_year  7787 non-null   int64 \n",
            " 8   rating        7780 non-null   object\n",
            " 9   duration      7787 non-null   object\n",
            " 10  listed_in     7787 non-null   object\n",
            " 11  description   7787 non-null   object\n",
            "dtypes: int64(1), object(11)\n",
            "memory usage: 730.2+ KB\n"
          ],
          "name": "stdout"
        }
      ]
    },
    {
      "cell_type": "markdown",
      "metadata": {
        "id": "_aYfQrsdycY6"
      },
      "source": [
        "There are 7787 entries and 12 columns to work with for EDA. Right off the bat, there are a few columns that contain null values ('director', 'cast', 'country', 'data_added', 'rating')"
      ]
    },
    {
      "cell_type": "code",
      "metadata": {
        "colab": {
          "base_uri": "https://localhost:8080/"
        },
        "id": "H4On2MInywvR",
        "outputId": "16441baf-8238-4ca2-9e6d-fa123311ec70"
      },
      "source": [
        "netflix_titles_df.nunique()"
      ],
      "execution_count": null,
      "outputs": [
        {
          "output_type": "execute_result",
          "data": {
            "text/plain": [
              "show_id         7787\n",
              "type               2\n",
              "title           7787\n",
              "director        4049\n",
              "cast            6831\n",
              "country          681\n",
              "date_added      1565\n",
              "release_year      73\n",
              "rating            14\n",
              "duration         216\n",
              "listed_in        492\n",
              "description     7769\n",
              "dtype: int64"
            ]
          },
          "metadata": {
            "tags": []
          },
          "execution_count": 5
        }
      ]
    },
    {
      "cell_type": "markdown",
      "metadata": {
        "id": "yb7HbjlmzJUA"
      },
      "source": [
        "## Handling Null Values\n",
        "We can see that for each of the columns, there are a lot different unique values for some of them. "
      ]
    },
    {
      "cell_type": "code",
      "metadata": {
        "colab": {
          "base_uri": "https://localhost:8080/"
        },
        "id": "3JjaGRCHzcdN",
        "outputId": "3af0b684-3f29-473d-d2e0-15e419be0f1e"
      },
      "source": [
        "netflix_titles_df.isnull().values.any()"
      ],
      "execution_count": null,
      "outputs": [
        {
          "output_type": "execute_result",
          "data": {
            "text/plain": [
              "True"
            ]
          },
          "metadata": {
            "tags": []
          },
          "execution_count": 6
        }
      ]
    },
    {
      "cell_type": "code",
      "metadata": {
        "colab": {
          "base_uri": "https://localhost:8080/"
        },
        "id": "M9GVuqD8zpPM",
        "outputId": "d6275e0e-b963-44cf-aae3-7320cdf68128"
      },
      "source": [
        "netflix_titles_df.isnull().sum().sum()"
      ],
      "execution_count": null,
      "outputs": [
        {
          "output_type": "execute_result",
          "data": {
            "text/plain": [
              "3631"
            ]
          },
          "metadata": {
            "tags": []
          },
          "execution_count": 7
        }
      ]
    },
    {
      "cell_type": "code",
      "metadata": {
        "colab": {
          "base_uri": "https://localhost:8080/",
          "height": 335
        },
        "id": "o_tl8BdFzwAG",
        "outputId": "dc3c28ca-32a3-4b73-ad78-fa6fce5e40fb"
      },
      "source": [
        "sns.heatmap(netflix_titles_df.isnull(), cbar=False)\n",
        "plt.title('Null Values Heatmap')\n",
        "plt.show()"
      ],
      "execution_count": null,
      "outputs": [
        {
          "output_type": "display_data",
          "data": {
            "image/png": "[encoded data removed]",
            "text/plain": [
              "<Figure size 432x288 with 1 Axes>"
            ]
          },
          "metadata": {
            "tags": [],
            "needs_background": "light"
          }
        }
      ]
    },
    {
      "cell_type": "code",
      "metadata": {
        "colab": {
          "base_uri": "https://localhost:8080/"
        },
        "id": "Eysc3Myi0EdF",
        "outputId": "f228d094-6c56-4979-a894-507383f2fc4d"
      },
      "source": [
        "netflix_titles_df.isnull().sum()"
      ],
      "execution_count": null,
      "outputs": [
        {
          "output_type": "execute_result",
          "data": {
            "text/plain": [
              "show_id            0\n",
              "type               0\n",
              "title              0\n",
              "director        2389\n",
              "cast             718\n",
              "country          507\n",
              "date_added        10\n",
              "release_year       0\n",
              "rating             7\n",
              "duration           0\n",
              "listed_in          0\n",
              "description        0\n",
              "dtype: int64"
            ]
          },
          "metadata": {
            "tags": []
          },
          "execution_count": 9
        }
      ]
    },
    {
      "cell_type": "markdown",
      "metadata": {
        "id": "wEnXFxza0NSv"
      },
      "source": [
        "Above in the heatmap and table, we can see that there are quite a few null values in the dataset. There are a total of 3631 null values across the entire dataset with 2389 missing points under 'director', 718 under 'cast', 507 under 'country', 10 under 'date_added' and 7 under 'rating'. We will have to handle all null data points before we can dive into EDA and modelling."
      ]
    },
    {
      "cell_type": "code",
      "metadata": {
        "id": "56pgzZG90H6I"
      },
      "source": [
        "netflix_titles_df['director'].fillna('No Director', inplace=True)\n",
        "netflix_titles_df['cast'].fillna('No Cast', inplace=True)\n",
        "netflix_titles_df['country'].fillna('Country Unavailable', inplace=True)\n",
        "netflix_titles_df.dropna(subset=['date_added', 'rating'], inplace=True)"
      ],
      "execution_count": null,
      "outputs": []
    },
    {
      "cell_type": "code",
      "metadata": {
        "colab": {
          "base_uri": "https://localhost:8080/"
        },
        "id": "o2rQmZIt1Y0M",
        "outputId": "20eedfaa-3c72-4c3b-f2f8-267f03d067da"
      },
      "source": [
        "netflix_titles_df.isnull().any()"
      ],
      "execution_count": null,
      "outputs": [
        {
          "output_type": "execute_result",
          "data": {
            "text/plain": [
              "show_id         False\n",
              "type            False\n",
              "title           False\n",
              "director        False\n",
              "cast            False\n",
              "country         False\n",
              "date_added      False\n",
              "release_year    False\n",
              "rating          False\n",
              "duration        False\n",
              "listed_in       False\n",
              "description     False\n",
              "dtype: bool"
            ]
          },
          "metadata": {
            "tags": []
          },
          "execution_count": 11
        }
      ]
    },
    {
      "cell_type": "markdown",
      "metadata": {
        "id": "k2KK2cSB1fvl"
      },
      "source": [
        "For null values, the easiest way to get rid of them would be to delete the rows with missing data. However, this wouldn't be benificial to our EDA since there is loss of information. Since 'director', 'cast' and 'country' contain the majority of null values, I will choose to treat each missing value as unavailable. The other two labels 'date_added' and 'rating' contains an insignificant portion of the data so I will drop the from the dataset. After, we can see that there are no more null values in the dataset."
      ]
    },
    {
      "cell_type": "markdown",
      "metadata": {
        "id": "RMGWw-qD2HAQ"
      },
      "source": [
        "## Splitting the Dataset\n",
        "Since the dataset can either contain movies or shows, it would be nice to have datasets for both so we can take a deep dive into just Netflix movies or Netflix TV shows. So we will create two new datasets. One for movies and the other one for shows."
      ]
    },
    {
      "cell_type": "code",
      "metadata": {
        "colab": {
          "base_uri": "https://localhost:8080/",
          "height": 279
        },
        "id": "pO5osmoK2ae6",
        "outputId": "2badea92-83ba-4f35-bd4e-15bafbc9a8e8"
      },
      "source": [
        "netflix_movies_df = netflix_titles_df[netflix_titles_df['type']=='Movie'].copy()\n",
        "netflix_movies_df.head()"
      ],
      "execution_count": null,
      "outputs": [
        {
          "output_type": "execute_result",
          "data": {
            "text/html": [
              "<div>\n",
              "<style scoped>\n",
              "    .dataframe tbody tr th:only-of-type {\n",
              "        vertical-align: middle;\n",
              "    }\n",
              "\n",
              "    .dataframe tbody tr th {\n",
              "        vertical-align: top;\n",
              "    }\n",
              "\n",
              "    .dataframe thead th {\n",
              "        text-align: right;\n",
              "    }\n",
              "</style>\n",
              "<table border=\"1\" class=\"dataframe\">\n",
              "  <thead>\n",
              "    <tr style=\"text-align: right;\">\n",
              "      <th></th>\n",
              "      <th>show_id</th>\n",
              "      <th>type</th>\n",
              "      <th>title</th>\n",
              "      <th>director</th>\n",
              "      <th>cast</th>\n",
              "      <th>country</th>\n",
              "      <th>date_added</th>\n",
              "      <th>release_year</th>\n",
              "      <th>rating</th>\n",
              "      <th>duration</th>\n",
              "      <th>listed_in</th>\n",
              "      <th>description</th>\n",
              "    </tr>\n",
              "  </thead>\n",
              "  <tbody>\n",
              "    <tr>\n",
              "      <th>1</th>\n",
              "      <td>s2</td>\n",
              "      <td>Movie</td>\n",
              "      <td>7:19</td>\n",
              "      <td>Jorge Michel Grau</td>\n",
              "      <td>Demián Bichir, Héctor Bonilla, Oscar Serrano, ...</td>\n",
              "      <td>Mexico</td>\n",
              "      <td>December 23, 2016</td>\n",
              "      <td>2016</td>\n",
              "      <td>TV-MA</td>\n",
              "      <td>93 min</td>\n",
              "      <td>Dramas, International Movies</td>\n",
              "      <td>After a devastating earthquake hits Mexico Cit...</td>\n",
              "    </tr>\n",
              "    <tr>\n",
              "      <th>2</th>\n",
              "      <td>s3</td>\n",
              "      <td>Movie</td>\n",
              "      <td>23:59</td>\n",
              "      <td>Gilbert Chan</td>\n",
              "      <td>Tedd Chan, Stella Chung, Henley Hii, Lawrence ...</td>\n",
              "      <td>Singapore</td>\n",
              "      <td>December 20, 2018</td>\n",
              "      <td>2011</td>\n",
              "      <td>R</td>\n",
              "      <td>78 min</td>\n",
              "      <td>Horror Movies, International Movies</td>\n",
              "      <td>When an army recruit is found dead, his fellow...</td>\n",
              "    </tr>\n",
              "    <tr>\n",
              "      <th>3</th>\n",
              "      <td>s4</td>\n",
              "      <td>Movie</td>\n",
              "      <td>9</td>\n",
              "      <td>Shane Acker</td>\n",
              "      <td>Elijah Wood, John C. Reilly, Jennifer Connelly...</td>\n",
              "      <td>United States</td>\n",
              "      <td>November 16, 2017</td>\n",
              "      <td>2009</td>\n",
              "      <td>PG-13</td>\n",
              "      <td>80 min</td>\n",
              "      <td>Action &amp; Adventure, Independent Movies, Sci-Fi...</td>\n",
              "      <td>In a postapocalyptic world, rag-doll robots hi...</td>\n",
              "    </tr>\n",
              "    <tr>\n",
              "      <th>4</th>\n",
              "      <td>s5</td>\n",
              "      <td>Movie</td>\n",
              "      <td>21</td>\n",
              "      <td>Robert Luketic</td>\n",
              "      <td>Jim Sturgess, Kevin Spacey, Kate Bosworth, Aar...</td>\n",
              "      <td>United States</td>\n",
              "      <td>January 1, 2020</td>\n",
              "      <td>2008</td>\n",
              "      <td>PG-13</td>\n",
              "      <td>123 min</td>\n",
              "      <td>Dramas</td>\n",
              "      <td>A brilliant group of students become card-coun...</td>\n",
              "    </tr>\n",
              "    <tr>\n",
              "      <th>6</th>\n",
              "      <td>s7</td>\n",
              "      <td>Movie</td>\n",
              "      <td>122</td>\n",
              "      <td>Yasir Al Yasiri</td>\n",
              "      <td>Amina Khalil, Ahmed Dawood, Tarek Lotfy, Ahmed...</td>\n",
              "      <td>Egypt</td>\n",
              "      <td>June 1, 2020</td>\n",
              "      <td>2019</td>\n",
              "      <td>TV-MA</td>\n",
              "      <td>95 min</td>\n",
              "      <td>Horror Movies, International Movies</td>\n",
              "      <td>After an awful accident, a couple admitted to ...</td>\n",
              "    </tr>\n",
              "  </tbody>\n",
              "</table>\n",
              "</div>"
            ],
            "text/plain": [
              "  show_id  ...                                        description\n",
              "1      s2  ...  After a devastating earthquake hits Mexico Cit...\n",
              "2      s3  ...  When an army recruit is found dead, his fellow...\n",
              "3      s4  ...  In a postapocalyptic world, rag-doll robots hi...\n",
              "4      s5  ...  A brilliant group of students become card-coun...\n",
              "6      s7  ...  After an awful accident, a couple admitted to ...\n",
              "\n",
              "[5 rows x 12 columns]"
            ]
          },
          "metadata": {
            "tags": []
          },
          "execution_count": 12
        }
      ]
    },
    {
      "cell_type": "code",
      "metadata": {
        "colab": {
          "base_uri": "https://localhost:8080/",
          "height": 279
        },
        "id": "AYVwim6A3SIm",
        "outputId": "07307c34-9f81-4665-8c9a-8059dfe12fa5"
      },
      "source": [
        "netflix_shows_df = netflix_titles_df[netflix_titles_df['type']=='TV Show'].copy()\n",
        "netflix_shows_df.head()"
      ],
      "execution_count": null,
      "outputs": [
        {
          "output_type": "execute_result",
          "data": {
            "text/html": [
              "<div>\n",
              "<style scoped>\n",
              "    .dataframe tbody tr th:only-of-type {\n",
              "        vertical-align: middle;\n",
              "    }\n",
              "\n",
              "    .dataframe tbody tr th {\n",
              "        vertical-align: top;\n",
              "    }\n",
              "\n",
              "    .dataframe thead th {\n",
              "        text-align: right;\n",
              "    }\n",
              "</style>\n",
              "<table border=\"1\" class=\"dataframe\">\n",
              "  <thead>\n",
              "    <tr style=\"text-align: right;\">\n",
              "      <th></th>\n",
              "      <th>show_id</th>\n",
              "      <th>type</th>\n",
              "      <th>title</th>\n",
              "      <th>director</th>\n",
              "      <th>cast</th>\n",
              "      <th>country</th>\n",
              "      <th>date_added</th>\n",
              "      <th>release_year</th>\n",
              "      <th>rating</th>\n",
              "      <th>duration</th>\n",
              "      <th>listed_in</th>\n",
              "      <th>description</th>\n",
              "    </tr>\n",
              "  </thead>\n",
              "  <tbody>\n",
              "    <tr>\n",
              "      <th>0</th>\n",
              "      <td>s1</td>\n",
              "      <td>TV Show</td>\n",
              "      <td>3%</td>\n",
              "      <td>No Director</td>\n",
              "      <td>João Miguel, Bianca Comparato, Michel Gomes, R...</td>\n",
              "      <td>Brazil</td>\n",
              "      <td>August 14, 2020</td>\n",
              "      <td>2020</td>\n",
              "      <td>TV-MA</td>\n",
              "      <td>4 Seasons</td>\n",
              "      <td>International TV Shows, TV Dramas, TV Sci-Fi &amp;...</td>\n",
              "      <td>In a future where the elite inhabit an island ...</td>\n",
              "    </tr>\n",
              "    <tr>\n",
              "      <th>5</th>\n",
              "      <td>s6</td>\n",
              "      <td>TV Show</td>\n",
              "      <td>46</td>\n",
              "      <td>Serdar Akar</td>\n",
              "      <td>Erdal Beşikçioğlu, Yasemin Allen, Melis Birkan...</td>\n",
              "      <td>Turkey</td>\n",
              "      <td>July 1, 2017</td>\n",
              "      <td>2016</td>\n",
              "      <td>TV-MA</td>\n",
              "      <td>1 Season</td>\n",
              "      <td>International TV Shows, TV Dramas, TV Mysteries</td>\n",
              "      <td>A genetics professor experiments with a treatm...</td>\n",
              "    </tr>\n",
              "    <tr>\n",
              "      <th>11</th>\n",
              "      <td>s12</td>\n",
              "      <td>TV Show</td>\n",
              "      <td>1983</td>\n",
              "      <td>No Director</td>\n",
              "      <td>Robert Więckiewicz, Maciej Musiał, Michalina O...</td>\n",
              "      <td>Poland, United States</td>\n",
              "      <td>November 30, 2018</td>\n",
              "      <td>2018</td>\n",
              "      <td>TV-MA</td>\n",
              "      <td>1 Season</td>\n",
              "      <td>Crime TV Shows, International TV Shows, TV Dramas</td>\n",
              "      <td>In this dark alt-history thriller, a naïve law...</td>\n",
              "    </tr>\n",
              "    <tr>\n",
              "      <th>12</th>\n",
              "      <td>s13</td>\n",
              "      <td>TV Show</td>\n",
              "      <td>1994</td>\n",
              "      <td>Diego Enrique Osorno</td>\n",
              "      <td>No Cast</td>\n",
              "      <td>Mexico</td>\n",
              "      <td>May 17, 2019</td>\n",
              "      <td>2019</td>\n",
              "      <td>TV-MA</td>\n",
              "      <td>1 Season</td>\n",
              "      <td>Crime TV Shows, Docuseries, International TV S...</td>\n",
              "      <td>Archival video and new interviews examine Mexi...</td>\n",
              "    </tr>\n",
              "    <tr>\n",
              "      <th>16</th>\n",
              "      <td>s17</td>\n",
              "      <td>TV Show</td>\n",
              "      <td>Feb-09</td>\n",
              "      <td>No Director</td>\n",
              "      <td>Shahd El Yaseen, Shaila Sabt, Hala, Hanadi Al-...</td>\n",
              "      <td>Country Unavailable</td>\n",
              "      <td>March 20, 2019</td>\n",
              "      <td>2018</td>\n",
              "      <td>TV-14</td>\n",
              "      <td>1 Season</td>\n",
              "      <td>International TV Shows, TV Dramas</td>\n",
              "      <td>As a psychology professor faces Alzheimer's, h...</td>\n",
              "    </tr>\n",
              "  </tbody>\n",
              "</table>\n",
              "</div>"
            ],
            "text/plain": [
              "   show_id  ...                                        description\n",
              "0       s1  ...  In a future where the elite inhabit an island ...\n",
              "5       s6  ...  A genetics professor experiments with a treatm...\n",
              "11     s12  ...  In this dark alt-history thriller, a naïve law...\n",
              "12     s13  ...  Archival video and new interviews examine Mexi...\n",
              "16     s17  ...  As a psychology professor faces Alzheimer's, h...\n",
              "\n",
              "[5 rows x 12 columns]"
            ]
          },
          "metadata": {
            "tags": []
          },
          "execution_count": 13
        }
      ]
    },
    {
      "cell_type": "markdown",
      "metadata": {
        "id": "-OKzkbZM3nr8"
      },
      "source": [
        "## Data Preparation\n",
        "In the duration column, there appears to be a discrepancy between movies and shows. Movies are based on the duration of the movie and shows are based on the number of seasons. To make EDA easier, I will convert values in these columns into integers for both the movies and shows datasets."
      ]
    },
    {
      "cell_type": "code",
      "metadata": {
        "id": "Yi2JVVaE4Bs1"
      },
      "source": [
        "netflix_movies_df.duration = netflix_movies_df.duration.str.replace(' min', '').astype(int)\n",
        "netflix_shows_df.rename(columns={'duration': 'seasons'}, inplace=True)\n",
        "netflix_shows_df.replace({'seasons': {'1 Season': '1 Seasons'}}, inplace=True)\n",
        "netflix_shows_df.seasons = netflix_shows_df.seasons.str.replace(' Seasons', '').astype(int)"
      ],
      "execution_count": null,
      "outputs": []
    },
    {
      "cell_type": "markdown",
      "metadata": {
        "id": "_8bE_Wgq4us9"
      },
      "source": [
        "# Exploratory Analysis and Visualizations\n",
        "First we will begin analysis on the entire Netflix dataset consisting of bothe movies and shows. Revisting the data, let us see how it looked like again."
      ]
    },
    {
      "cell_type": "code",
      "metadata": {
        "id": "QXmnAIL95Cqg",
        "colab": {
          "base_uri": "https://localhost:8080/",
          "height": 669
        },
        "outputId": "f382a8ba-cf51-446c-825d-c467de20dc89"
      },
      "source": [
        "netflix_titles_df.head()"
      ],
      "execution_count": null,
      "outputs": [
        {
          "output_type": "execute_result",
          "data": {
            "text/html": [
              "<div>\n",
              "<style scoped>\n",
              "    .dataframe tbody tr th:only-of-type {\n",
              "        vertical-align: middle;\n",
              "    }\n",
              "\n",
              "    .dataframe tbody tr th {\n",
              "        vertical-align: top;\n",
              "    }\n",
              "\n",
              "    .dataframe thead th {\n",
              "        text-align: right;\n",
              "    }\n",
              "</style>\n",
              "<table border=\"1\" class=\"dataframe\">\n",
              "  <thead>\n",
              "    <tr style=\"text-align: right;\">\n",
              "      <th></th>\n",
              "      <th>show_id</th>\n",
              "      <th>type</th>\n",
              "      <th>title</th>\n",
              "      <th>director</th>\n",
              "      <th>cast</th>\n",
              "      <th>country</th>\n",
              "      <th>date_added</th>\n",
              "      <th>release_year</th>\n",
              "      <th>rating</th>\n",
              "      <th>duration</th>\n",
              "      <th>listed_in</th>\n",
              "      <th>description</th>\n",
              "    </tr>\n",
              "  </thead>\n",
              "  <tbody>\n",
              "    <tr>\n",
              "      <th>0</th>\n",
              "      <td>s1</td>\n",
              "      <td>TV Show</td>\n",
              "      <td>3%</td>\n",
              "      <td>No Director</td>\n",
              "      <td>João Miguel, Bianca Comparato, Michel Gomes, R...</td>\n",
              "      <td>Brazil</td>\n",
              "      <td>August 14, 2020</td>\n",
              "      <td>2020</td>\n",
              "      <td>TV-MA</td>\n",
              "      <td>4 Seasons</td>\n",
              "      <td>International TV Shows, TV Dramas, TV Sci-Fi &amp;...</td>\n",
              "      <td>In a future where the elite inhabit an island ...</td>\n",
              "    </tr>\n",
              "    <tr>\n",
              "      <th>1</th>\n",
              "      <td>s2</td>\n",
              "      <td>Movie</td>\n",
              "      <td>7:19</td>\n",
              "      <td>Jorge Michel Grau</td>\n",
              "      <td>Demián Bichir, Héctor Bonilla, Oscar Serrano, ...</td>\n",
              "      <td>Mexico</td>\n",
              "      <td>December 23, 2016</td>\n",
              "      <td>2016</td>\n",
              "      <td>TV-MA</td>\n",
              "      <td>93 min</td>\n",
              "      <td>Dramas, International Movies</td>\n",
              "      <td>After a devastating earthquake hits Mexico Cit...</td>\n",
              "    </tr>\n",
              "    <tr>\n",
              "      <th>2</th>\n",
              "      <td>s3</td>\n",
              "      <td>Movie</td>\n",
              "      <td>23:59</td>\n",
              "      <td>Gilbert Chan</td>\n",
              "      <td>Tedd Chan, Stella Chung, Henley Hii, Lawrence ...</td>\n",
              "      <td>Singapore</td>\n",
              "      <td>December 20, 2018</td>\n",
              "      <td>2011</td>\n",
              "      <td>R</td>\n",
              "      <td>78 min</td>\n",
              "      <td>Horror Movies, International Movies</td>\n",
              "      <td>When an army recruit is found dead, his fellow...</td>\n",
              "    </tr>\n",
              "    <tr>\n",
              "      <th>3</th>\n",
              "      <td>s4</td>\n",
              "      <td>Movie</td>\n",
              "      <td>9</td>\n",
              "      <td>Shane Acker</td>\n",
              "      <td>Elijah Wood, John C. Reilly, Jennifer Connelly...</td>\n",
              "      <td>United States</td>\n",
              "      <td>November 16, 2017</td>\n",
              "      <td>2009</td>\n",
              "      <td>PG-13</td>\n",
              "      <td>80 min</td>\n",
              "      <td>Action &amp; Adventure, Independent Movies, Sci-Fi...</td>\n",
              "      <td>In a postapocalyptic world, rag-doll robots hi...</td>\n",
              "    </tr>\n",
              "    <tr>\n",
              "      <th>4</th>\n",
              "      <td>s5</td>\n",
              "      <td>Movie</td>\n",
              "      <td>21</td>\n",
              "      <td>Robert Luketic</td>\n",
              "      <td>Jim Sturgess, Kevin Spacey, Kate Bosworth, Aar...</td>\n",
              "      <td>United States</td>\n",
              "      <td>January 1, 2020</td>\n",
              "      <td>2008</td>\n",
              "      <td>PG-13</td>\n",
              "      <td>123 min</td>\n",
              "      <td>Dramas</td>\n",
              "      <td>A brilliant group of students become card-coun...</td>\n",
              "    </tr>\n",
              "  </tbody>\n",
              "</table>\n",
              "</div>"
            ],
            "text/plain": [
              "  show_id  ...                                        description\n",
              "0      s1  ...  In a future where the elite inhabit an island ...\n",
              "1      s2  ...  After a devastating earthquake hits Mexico Cit...\n",
              "2      s3  ...  When an army recruit is found dead, his fellow...\n",
              "3      s4  ...  In a postapocalyptic world, rag-doll robots hi...\n",
              "4      s5  ...  A brilliant group of students become card-coun...\n",
              "\n",
              "[5 rows x 12 columns]"
            ]
          },
          "metadata": {
            "tags": []
          },
          "execution_count": 15
        }
      ]
    },
    {
      "cell_type": "markdown",
      "metadata": {
        "id": "rAZNjYyXCsrx"
      },
      "source": [
        "## Netflix Film Types: Movie or TV Show\n",
        "It would be interesting to see the comparison between the total number of movies and shows in the dataset just to get an idea of which one is the majority."
      ]
    },
    {
      "cell_type": "code",
      "metadata": {
        "colab": {
          "base_uri": "https://localhost:8080/",
          "height": 404
        },
        "id": "EhoWX8XgDBst",
        "outputId": "a82ee73c-4ae7-4425-a7bf-068b3412e219"
      },
      "source": [
        "plt.figure(figsize=(7,5))\n",
        "g = sns.countplot(netflix_titles_df.type, palette='pastel')\n",
        "plt.title('Count of Movies and TV Shows')\n",
        "plt.xlabel('Type (Movie/TV Show)')\n",
        "plt.ylabel('Total Count')\n",
        "plt.show()"
      ],
      "execution_count": null,
      "outputs": [
        {
          "output_type": "stream",
          "text": [
            "/usr/local/lib/python3.7/dist-packages/seaborn/_decorators.py:43: FutureWarning: Pass the following variable as a keyword arg: x. From version 0.12, the only valid positional argument will be `data`, and passing other arguments without an explicit keyword will result in an error or misinterpretation.\n",
            "  FutureWarning\n"
          ],
          "name": "stderr"
        },
        {
          "output_type": "display_data",
          "data": {
            "image/png": "[encoded data removed]",
            "text/plain": [
              "<Figure size 504x360 with 1 Axes>"
            ]
          },
          "metadata": {
            "tags": [],
            "needs_background": "light"
          }
        }
      ]
    },
    {
      "cell_type": "code",
      "metadata": {
        "colab": {
          "base_uri": "https://localhost:8080/",
          "height": 373
        },
        "id": "_z6wJUuGDfFh",
        "outputId": "e56698c8-34c5-4255-8b48-77b8787b7ab7"
      },
      "source": [
        "plt.figure(figsize=(12,6))\n",
        "plt.title('% of Netflix Title that are either Movies or TV Shows')\n",
        "g = plt.pie(netflix_titles_df.type.value_counts(), explode=(0.025, 0.025), labels=netflix_titles_df.type.value_counts().index, colors=['skyblue','navajowhite'], autopct='%1.1f%%', startangle=180)\n",
        "plt.legend()\n",
        "plt.show()"
      ],
      "execution_count": null,
      "outputs": [
        {
          "output_type": "display_data",
          "data": {
            "image/png": "[encoded data removed]",
            "text/plain": [
              "<Figure size 864x432 with 1 Axes>"
            ]
          },
          "metadata": {
            "tags": []
          }
        }
      ]
    },
    {
      "cell_type": "markdown",
      "metadata": {
        "id": "HxHxH0yNEbu4"
      },
      "source": [
        "So there are roughly 5000+ movies and almost 2000+ TV Shows, movies being the clear majority. This makes sense since shows are always an ongoing thing and have episodes. If we were to do a headcount of TV Show episodes vs Movies, I am sure that TV Shows would come out as the majority. However, in terms of title, there are far more movie titles (69.1%) than TV Show titles (30.9%)."
      ]
    },
    {
      "cell_type": "markdown",
      "metadata": {
        "id": "pDKU9G8NFNm5"
      },
      "source": [
        "## Netflix Film Ratings\n",
        "Now, we will explore the ratings which are based on the film rating system. The ordering of the ratings will be based on the age of the respective audience from youngest to oldest. We will not include the ratings 'NR' and 'UR' in the visuals since they stand for unrated and non-rated content."
      ]
    },
    {
      "cell_type": "code",
      "metadata": {
        "colab": {
          "base_uri": "https://localhost:8080/",
          "height": 388
        },
        "id": "EpZ6IfV4Fos7",
        "outputId": "aa4c4443-e49b-449e-8a18-e64e05124dad"
      },
      "source": [
        "order = ['G', 'TV-Y', 'TV-G', 'PG', 'TV-Y7', 'TV-Y7-FV', 'TV-PG', 'PG-13', 'TV-14', 'R', 'NC-17', 'TV-MA']\n",
        "plt.figure(figsize=(15,7))\n",
        "g = sns.countplot(netflix_titles_df.rating, hue=netflix_titles_df.type, order=order, palette='pastel')\n",
        "plt.title('Ratings for Movies and TV Shows')\n",
        "plt.xlabel('Rating')\n",
        "plt.ylabel('Total Count')\n",
        "plt.show()"
      ],
      "execution_count": null,
      "outputs": [
        {
          "output_type": "stream",
          "text": [
            "/usr/local/lib/python3.7/dist-packages/seaborn/_decorators.py:43: FutureWarning: Pass the following variable as a keyword arg: x. From version 0.12, the only valid positional argument will be `data`, and passing other arguments without an explicit keyword will result in an error or misinterpretation.\n",
            "  FutureWarning\n"
          ],
          "name": "stderr"
        },
        {
          "output_type": "display_data",
          "data": {
            "image/png": "[encoded data removed]",
            "text/plain": [
              "<Figure size 1080x504 with 1 Axes>"
            ]
          },
          "metadata": {
            "tags": [],
            "needs_background": "light"
          }
        }
      ]
    },
    {
      "cell_type": "code",
      "metadata": {
        "colab": {
          "base_uri": "https://localhost:8080/",
          "height": 296
        },
        "id": "snAvVnzAGzHX",
        "outputId": "b37467a1-36fe-41f1-bb1c-4f90040a72f8"
      },
      "source": [
        "fig, ax = plt.subplots(1, 2, figsize=(19, 5))\n",
        "g1 = sns.countplot(netflix_movies_df.rating, order=order, palette='Set2', ax=ax[0])\n",
        "g1.set(yticks=np.arange(0, 2200, 250))\n",
        "g1.set_title('Ratings for Movies')\n",
        "g1.set_xlabel('Rating')\n",
        "g1.set_ylabel('Total Count')\n",
        "g2 = sns.countplot(netflix_shows_df.rating, order=order, palette='Set2', ax=ax[1])\n",
        "g2.set(yticks=np.arange(0, 2200, 250))\n",
        "g2.set_title('Ratings for TV Shows')\n",
        "g2.set_xlabel('Rating')\n",
        "g2.set_ylabel('Total Count')\n",
        "fig.show()"
      ],
      "execution_count": null,
      "outputs": [
        {
          "output_type": "stream",
          "text": [
            "/usr/local/lib/python3.7/dist-packages/seaborn/_decorators.py:43: FutureWarning: Pass the following variable as a keyword arg: x. From version 0.12, the only valid positional argument will be `data`, and passing other arguments without an explicit keyword will result in an error or misinterpretation.\n",
            "  FutureWarning\n",
            "/usr/local/lib/python3.7/dist-packages/seaborn/_decorators.py:43: FutureWarning: Pass the following variable as a keyword arg: x. From version 0.12, the only valid positional argument will be `data`, and passing other arguments without an explicit keyword will result in an error or misinterpretation.\n",
            "  FutureWarning\n"
          ],
          "name": "stderr"
        },
        {
          "output_type": "display_data",
          "data": {
            "image/png": "[encoded data removed]",
            "text/plain": [
              "<Figure size 1368x360 with 2 Axes>"
            ]
          },
          "metadata": {
            "tags": [],
            "needs_background": "light"
          }
        }
      ]
    },
    {
      "cell_type": "markdown",
      "metadata": {
        "id": "PMx1DeOZKo6v"
      },
      "source": [
        "Overall, there is much more content for a  mature audience. For the mature audience, there are more movies than there are TV Shows. However, for the younger audience ( under the age of 17 ), it is the opposite, there are slightly more TV Shows than there are movies."
      ]
    },
    {
      "cell_type": "code",
      "metadata": {
        "id": "2kxhcDGUK_yN"
      },
      "source": [
        "netflix_titles_df['year_added'] = pd.DatetimeIndex(netflix_titles_df['date_added']).year\n",
        "netflix_movies_df['year_added'] = pd.DatetimeIndex(netflix_movies_df['date_added']).year\n",
        "netflix_shows_df['year_added'] = pd.DatetimeIndex(netflix_shows_df['date_added']).year\n",
        "netflix_titles_df['month_added'] = pd.DatetimeIndex(netflix_titles_df['date_added']).month\n",
        "netflix_movies_df['month_added'] = pd.DatetimeIndex(netflix_movies_df['date_added']).month\n",
        "netflix_shows_df['month_added'] = pd.DatetimeIndex(netflix_shows_df['date_added']).month"
      ],
      "execution_count": null,
      "outputs": []
    },
    {
      "cell_type": "markdown",
      "metadata": {
        "id": "fOqKpPMBLzTx"
      },
      "source": [
        "#Content added each year\n",
        "Now we will take a look at the amount of content Netflix has added throughout the previous years. Since we are interested in when Netflix added the title onto their platform, we will add a 'year_added' column that shows the year of the date from the 'date_added' column as shown above."
      ]
    },
    {
      "cell_type": "code",
      "metadata": {
        "colab": {
          "base_uri": "https://localhost:8080/",
          "height": 432
        },
        "id": "s78e-ED0MQnn",
        "outputId": "d9ca3759-fbbf-464d-cc8e-5bd7a4de3ef6"
      },
      "source": [
        "netflix_year = netflix_titles_df['year_added'].value_counts().to_frame().reset_index().rename(columns={'index': 'year', 'year_added': 'count'})\n",
        "netflix_year = netflix_year[netflix_year.year != 2021]\n",
        "netflix_year\n"
      ],
      "execution_count": null,
      "outputs": [
        {
          "output_type": "execute_result",
          "data": {
            "text/html": [
              "<div>\n",
              "<style scoped>\n",
              "    .dataframe tbody tr th:only-of-type {\n",
              "        vertical-align: middle;\n",
              "    }\n",
              "\n",
              "    .dataframe tbody tr th {\n",
              "        vertical-align: top;\n",
              "    }\n",
              "\n",
              "    .dataframe thead th {\n",
              "        text-align: right;\n",
              "    }\n",
              "</style>\n",
              "<table border=\"1\" class=\"dataframe\">\n",
              "  <thead>\n",
              "    <tr style=\"text-align: right;\">\n",
              "      <th></th>\n",
              "      <th>year</th>\n",
              "      <th>count</th>\n",
              "    </tr>\n",
              "  </thead>\n",
              "  <tbody>\n",
              "    <tr>\n",
              "      <th>0</th>\n",
              "      <td>2019</td>\n",
              "      <td>2153</td>\n",
              "    </tr>\n",
              "    <tr>\n",
              "      <th>1</th>\n",
              "      <td>2020</td>\n",
              "      <td>2009</td>\n",
              "    </tr>\n",
              "    <tr>\n",
              "      <th>2</th>\n",
              "      <td>2018</td>\n",
              "      <td>1684</td>\n",
              "    </tr>\n",
              "    <tr>\n",
              "      <th>3</th>\n",
              "      <td>2017</td>\n",
              "      <td>1222</td>\n",
              "    </tr>\n",
              "    <tr>\n",
              "      <th>4</th>\n",
              "      <td>2016</td>\n",
              "      <td>440</td>\n",
              "    </tr>\n",
              "    <tr>\n",
              "      <th>6</th>\n",
              "      <td>2015</td>\n",
              "      <td>88</td>\n",
              "    </tr>\n",
              "    <tr>\n",
              "      <th>7</th>\n",
              "      <td>2014</td>\n",
              "      <td>25</td>\n",
              "    </tr>\n",
              "    <tr>\n",
              "      <th>8</th>\n",
              "      <td>2011</td>\n",
              "      <td>13</td>\n",
              "    </tr>\n",
              "    <tr>\n",
              "      <th>9</th>\n",
              "      <td>2013</td>\n",
              "      <td>11</td>\n",
              "    </tr>\n",
              "    <tr>\n",
              "      <th>10</th>\n",
              "      <td>2012</td>\n",
              "      <td>3</td>\n",
              "    </tr>\n",
              "    <tr>\n",
              "      <th>11</th>\n",
              "      <td>2009</td>\n",
              "      <td>2</td>\n",
              "    </tr>\n",
              "    <tr>\n",
              "      <th>12</th>\n",
              "      <td>2008</td>\n",
              "      <td>2</td>\n",
              "    </tr>\n",
              "    <tr>\n",
              "      <th>13</th>\n",
              "      <td>2010</td>\n",
              "      <td>1</td>\n",
              "    </tr>\n",
              "  </tbody>\n",
              "</table>\n",
              "</div>"
            ],
            "text/plain": [
              "    year  count\n",
              "0   2019   2153\n",
              "1   2020   2009\n",
              "2   2018   1684\n",
              "3   2017   1222\n",
              "4   2016    440\n",
              "6   2015     88\n",
              "7   2014     25\n",
              "8   2011     13\n",
              "9   2013     11\n",
              "10  2012      3\n",
              "11  2009      2\n",
              "12  2008      2\n",
              "13  2010      1"
            ]
          },
          "metadata": {
            "tags": []
          },
          "execution_count": 21
        }
      ]
    },
    {
      "cell_type": "code",
      "metadata": {
        "id": "m6UuewNVNN4o"
      },
      "source": [
        "netflix_year2 = netflix_titles_df[['type', 'year_added']]\n",
        "movie_year = netflix_year2[netflix_year2['type']=='Movie'].year_added.value_counts().to_frame().reset_index().rename(columns={'index': 'year', 'year_added': 'count'})\n",
        "movie_year = movie_year[movie_year.year != 2021]\n",
        "show_year = netflix_year2[netflix_year2['type']=='TV Show'].year_added.value_counts().to_frame().reset_index().rename(columns={'index': 'year', 'year_added': 'count'})\n",
        "show_year = show_year[show_year.year != 2021]\n"
      ],
      "execution_count": null,
      "outputs": []
    },
    {
      "cell_type": "code",
      "metadata": {
        "colab": {
          "base_uri": "https://localhost:8080/",
          "height": 404
        },
        "id": "YNwiQHbhO0Qn",
        "outputId": "de4ae3a8-a966-4a91-d125-4e3148486bbb"
      },
      "source": [
        "fig, ax = plt.subplots(figsize=(10, 6))\n",
        "sns.lineplot(data=netflix_year, x='year', y='count')\n",
        "sns.lineplot(data=movie_year, x='year', y='count')\n",
        "sns.lineplot(data=show_year, x='year', y='count')\n",
        "ax.set_xticks(np.arange(2008, 2021, 1))\n",
        "plt.title('Total content added each year (up to 2020)')\n",
        "plt.legend(['Total', 'Movie', 'TV Show'])\n",
        "plt.ylabel('Releases')\n",
        "plt.xlabel('Year')\n",
        "plt.show()"
      ],
      "execution_count": null,
      "outputs": [
        {
          "output_type": "display_data",
          "data": {
            "image/png": "[encoded data removed]",
            "text/plain": [
              "<Figure size 720x432 with 1 Axes>"
            ]
          },
          "metadata": {
            "tags": [],
            "needs_background": "light"
          }
        }
      ]
    },
    {
      "cell_type": "markdown",
      "metadata": {
        "id": "Xnbn1kgtP0fr"
      },
      "source": [
        "Based on the above timeline, we can see that the popular streaming started gaining traction after 2014. Since then, the amount of content added has been tremendous. I decided to exclude content added during 2021 since the data does not include a full years worth of data. We can see that there has been a consistent growth in the number of movies on Netflix compared to shows, the reason clearly being the repititve nature of TV Shows. \n",
        "\n",
        "#### We see a decline in number of title released in 2020, the reason being delays due to COVID-19 outbreak."
      ]
    },
    {
      "cell_type": "code",
      "metadata": {
        "colab": {
          "base_uri": "https://localhost:8080/",
          "height": 513
        },
        "id": "TUiSCohAQucl",
        "outputId": "4e58523e-6668-415a-a7f9-af536cf552d0"
      },
      "source": [
        "month_year_df = netflix_titles_df.groupby('year_added')['month_added'].value_counts().unstack().fillna(0).T\n",
        "\n",
        "plt.figure(figsize=(11, 8))\n",
        "sns.heatmap(month_year_df, linewidths=0.025, cmap='YlGnBu')\n",
        "plt.title('Content Heatmap')\n",
        "plt.ylabel('Month')\n",
        "plt.xlabel('Year')\n",
        "plt.show()"
      ],
      "execution_count": null,
      "outputs": [
        {
          "output_type": "display_data",
          "data": {
            "image/png": "[encoded data removed]",
            "text/plain": [
              "<Figure size 792x576 with 2 Axes>"
            ]
          },
          "metadata": {
            "tags": [],
            "needs_background": "light"
          }
        }
      ]
    },
    {
      "cell_type": "markdown",
      "metadata": {
        "id": "6l9OWH9VSgVx"
      },
      "source": [
        "In the above heatmap, we can see that around 2014 is when Netflix began to increaase thier content count. We can see over the years and months, Netflix continues to slowly increase the amount of content that is being added into their platform. We can see in 2021, the data stops in January since that is the latest month available in the dataset."
      ]
    },
    {
      "cell_type": "markdown",
      "metadata": {
        "id": "Dth20BXLS7d1"
      },
      "source": [
        "## Netflix Film Duration\n"
      ]
    },
    {
      "cell_type": "code",
      "metadata": {
        "id": "CykwM719R6Jq",
        "colab": {
          "base_uri": "https://localhost:8080/",
          "height": 312
        },
        "outputId": "e117e74d-8dd3-4a50-ada8-ec3c8d4210f3"
      },
      "source": [
        "fig, ax = plt.subplots(1, 2, figsize=(19, 5))\n",
        "g1 = sns.distplot(netflix_movies_df.duration, color='skyblue', ax=ax[0])\n",
        "g1.set_xticks(np.arange(0, 360, 30))\n",
        "g1.set_title('Duration Distribution for Netflix Movies')\n",
        "g1.set_ylabel('% of All Netflix Movies')\n",
        "g1.set_xlabel('Duration (minutes)')\n",
        "g2 = sns.countplot(netflix_shows_df.seasons, color='skyblue', ax=ax[1])\n",
        "g2.set_title('Netflix TV Shows Seasons')\n",
        "g2.set_ylabel('Count')\n",
        "g2.set_xlabel('Duration (seasons)')"
      ],
      "execution_count": null,
      "outputs": [
        {
          "output_type": "stream",
          "text": [
            "/usr/local/lib/python3.7/dist-packages/seaborn/distributions.py:2557: FutureWarning: `distplot` is a deprecated function and will be removed in a future version. Please adapt your code to use either `displot` (a figure-level function with similar flexibility) or `histplot` (an axes-level function for histograms).\n",
            "  warnings.warn(msg, FutureWarning)\n",
            "/usr/local/lib/python3.7/dist-packages/seaborn/_decorators.py:43: FutureWarning: Pass the following variable as a keyword arg: x. From version 0.12, the only valid positional argument will be `data`, and passing other arguments without an explicit keyword will result in an error or misinterpretation.\n",
            "  FutureWarning\n"
          ],
          "name": "stderr"
        },
        {
          "output_type": "execute_result",
          "data": {
            "text/plain": [
              "Text(0.5, 0, 'Duration (seasons)')"
            ]
          },
          "metadata": {
            "tags": []
          },
          "execution_count": 25
        },
        {
          "output_type": "display_data",
          "data": {
            "image/png": "[encoded data removed]",
            "text/plain": [
              "<Figure size 1368x360 with 2 Axes>"
            ]
          },
          "metadata": {
            "tags": [],
            "needs_background": "light"
          }
        }
      ]
    },
    {
      "cell_type": "markdown",
      "metadata": {
        "id": "xeM4hUqNvBWr"
      },
      "source": [
        "Now we will look into the duration of Netflix films. Since movies are measured in time and shows are measured by seasons, we need to split the dataset between movies and TV shows. Above on the left, we can see that the duration for Netflix movies closely resembles a normal distribution with the average viewing time spanning about 90 minutes, which seems to make sense. Netflix TV shows on the other hand seems to be heavily skewed to the right where the majority of shows only have 1 season."
      ]
    },
    {
      "cell_type": "markdown",
      "metadata": {
        "id": "3R-PtcWqvie3"
      },
      "source": [
        "## Countries with the most content available"
      ]
    },
    {
      "cell_type": "code",
      "metadata": {
        "colab": {
          "base_uri": "https://localhost:8080/",
          "height": 567
        },
        "id": "MAJT6UIXvmZ9",
        "outputId": "bf9ad888-eaee-470c-c517-5cb7b1b736af"
      },
      "source": [
        "filtered_countries = netflix_titles_df.set_index('title').country.str.split(', ', expand=True).stack().reset_index(level=1, drop=True)\n",
        "filtered_countries = filtered_countries[filtered_countries != 'Country Unavailable']\n",
        "\n",
        "plt.figure(figsize=(7, 9))\n",
        "g = sns.countplot(y = filtered_countries, order=filtered_countries.value_counts().index[:20])\n",
        "plt.title('Top 20 countries on Netflix')\n",
        "plt.xlabel('Titles')\n",
        "plt.ylabel('Country')\n",
        "plt.show()"
      ],
      "execution_count": null,
      "outputs": [
        {
          "output_type": "display_data",
          "data": {
            "image/png": "[encoded data removed]",
            "text/plain": [
              "<Figure size 504x648 with 1 Axes>"
            ]
          },
          "metadata": {
            "tags": [],
            "needs_background": "light"
          }
        }
      ]
    },
    {
      "cell_type": "markdown",
      "metadata": {
        "id": "wpUbd5yBwjSD"
      },
      "source": [
        "Now we will explore the countries with the most content on Netflix. Films typically are available in multiple countires as shown in the original dateset. Therefore, we need to separate all countries within a film before we can analyze the data. After separating countries and removing titles with no countries available, we can plot a Top 20 list to see whcih countries have the highest availability of films on Netflix. Unsurprisingly, the United States stands out on top since Netflix is an American company. India at second position is a genuine surprise. UK and Canada follow India. China interestingly is not even close to the top even though it has about 18% of the world's population. Reasons for this could be for political reasons and the bannign of certain applications whcih isn't uncommon between the United States and China."
      ]
    },
    {
      "cell_type": "markdown",
      "metadata": {
        "id": "w53QsPBp6IQm"
      },
      "source": [
        "## Popular Genres"
      ]
    },
    {
      "cell_type": "code",
      "metadata": {
        "colab": {
          "base_uri": "https://localhost:8080/",
          "height": 567
        },
        "id": "BgjHf0Hb6LhE",
        "outputId": "e0aff058-7f59-408a-ad09-4cb8d3a2fc19"
      },
      "source": [
        "filtered_genres = netflix_titles_df.set_index('title').listed_in.str.split(', ',expand=True ).stack().reset_index(level=1, drop=True)\n",
        "\n",
        "plt.figure(figsize=(7, 9))\n",
        "g = sns.countplot(y = filtered_genres, order=filtered_genres.value_counts().index[:20])\n",
        "plt.title('Top 20 Genres on Netflix')\n",
        "plt.xlabel('Titles')\n",
        "plt.ylabel('Genres')\n",
        "plt.show()"
      ],
      "execution_count": null,
      "outputs": [
        {
          "output_type": "display_data",
          "data": {
            "image/png": "[encoded data removed]",
            "text/plain": [
              "<Figure size 504x648 with 1 Axes>"
            ]
          },
          "metadata": {
            "tags": [],
            "needs_background": "light"
          }
        }
      ]
    },
    {
      "cell_type": "markdown",
      "metadata": {
        "id": "L_MJEKkE7A40"
      },
      "source": [
        "In terms of genres, international movies take the cake surprisingly followed by dramas and comedies. Even though the United States has the most content available, it looks like Netflix has decided to release a ton of international movies. The reason for this could be that most Netflix subscribers aren't acutally in the United States, but the majority of viewers are actually international subscribers."
      ]
    },
    {
      "cell_type": "markdown",
      "metadata": {
        "id": "yn-6yg8z7hnE"
      },
      "source": [
        "# QNA"
      ]
    },
    {
      "cell_type": "markdown",
      "metadata": {
        "id": "CiZOSNRy7lGC"
      },
      "source": [
        "## Who are the top 10 directors on Netflix with the most releases?"
      ]
    },
    {
      "cell_type": "code",
      "metadata": {
        "colab": {
          "base_uri": "https://localhost:8080/",
          "height": 279
        },
        "id": "SqckzsDJ7u11",
        "outputId": "7cf36570-1bf6-4102-85e5-5a7ca3a9738b"
      },
      "source": [
        "filtered_directors = netflix_titles_df[netflix_titles_df.director != 'No Director'].set_index('title').director.str.split(', ', expand=True).stack().reset_index(level=1, drop=True)\n",
        "sns.countplot(y = filtered_directors, order = filtered_directors.value_counts().index[:10], palette='mako')\n",
        "plt.show()"
      ],
      "execution_count": null,
      "outputs": [
        {
          "output_type": "display_data",
          "data": {
            "image/png": "[encoded data removed]",
            "text/plain": [
              "<Figure size 432x288 with 1 Axes>"
            ]
          },
          "metadata": {
            "tags": [],
            "needs_background": "light"
          }
        }
      ]
    },
    {
      "cell_type": "markdown",
      "metadata": {
        "id": "kfLevvq08dSh"
      },
      "source": [
        "As stated previously regardingn the top genres, it's no surprise that the most popular directors on Netflix with the most titles are mainly international as well."
      ]
    },
    {
      "cell_type": "markdown",
      "metadata": {
        "id": "m8Als9uW8pt6"
      },
      "source": [
        "## Who are the top 10 actors on Netflix based on number of titles?"
      ]
    },
    {
      "cell_type": "code",
      "metadata": {
        "colab": {
          "base_uri": "https://localhost:8080/",
          "height": 279
        },
        "id": "iS2ybsd88vrw",
        "outputId": "5e05031f-10e8-4c54-9b59-726b57587606"
      },
      "source": [
        "filtered_cast = netflix_titles_df[netflix_titles_df.cast != 'No Cast'].set_index('title').cast.str.split(', ', expand=True).stack().reset_index(level=1, drop=True)\n",
        "sns.countplot(y = filtered_cast, order = filtered_cast.value_counts().index[:10], palette='rocket')\n",
        "plt.show()"
      ],
      "execution_count": null,
      "outputs": [
        {
          "output_type": "display_data",
          "data": {
            "image/png": "[encoded data removed]",
            "text/plain": [
              "<Figure size 432x288 with 1 Axes>"
            ]
          },
          "metadata": {
            "tags": [],
            "needs_background": "light"
          }
        }
      ]
    },
    {
      "cell_type": "markdown",
      "metadata": {
        "id": "U26ZwmXy9dLy"
      },
      "source": [
        "In this list, we can see that the most popular actors on Netflix based on the number of titles are all international as well. This reinforces the sentiment that the majority of Netflix subscribers are international."
      ]
    },
    {
      "cell_type": "markdown",
      "metadata": {
        "id": "OPrcQOoB9uMt"
      },
      "source": [
        "## How does the timeline look like for the addition of international movies compared to international TV shows?"
      ]
    },
    {
      "cell_type": "code",
      "metadata": {
        "colab": {
          "base_uri": "https://localhost:8080/",
          "height": 404
        },
        "id": "kf3J2_s094Xb",
        "outputId": "8f5473a0-cd60-4692-8a3b-3112e3246162"
      },
      "source": [
        "international_movies = netflix_titles_df[ netflix_titles_df['listed_in'].str.contains('International Movies')]\n",
        "intmov_year = international_movies['year_added'].value_counts().to_frame().reset_index().rename(columns={'index': 'year', 'year_added':'count'})\n",
        "intmov_year = intmov_year[intmov_year.year != 2021]\n",
        "\n",
        "international_shows = netflix_titles_df[ netflix_titles_df['listed_in'].str.contains('International TV Shows')]\n",
        "intshow_year = international_shows['year_added'].value_counts().to_frame().reset_index().rename(columns={'index': 'year', 'year_added':'count'})\n",
        "intshow_year = intshow_year[intshow_year.year != 2021]\n",
        "\n",
        "fig, ax = plt.subplots(figsize=(10, 6))\n",
        "sns.lineplot(data=intmov_year, x='year', y='count')\n",
        "sns.lineplot(data=intshow_year, x='year', y='count')\n",
        "ax.set(xticks=np.arange(2008, 2020, 1))\n",
        "plt.title(\"International content across all years (up to 2019)\")\n",
        "plt.legend(['International Movies','International TV Shows'])\n",
        "plt.show()"
      ],
      "execution_count": null,
      "outputs": [
        {
          "output_type": "display_data",
          "data": {
            "image/png": "[encoded data removed]",
            "text/plain": [
              "<Figure size 720x432 with 1 Axes>"
            ]
          },
          "metadata": {
            "tags": [],
            "needs_background": "light"
          }
        }
      ]
    },
    {
      "cell_type": "markdown",
      "metadata": {
        "id": "kDHeg_YP45jp"
      },
      "source": [
        "Based on the timeline, we can see that there are far more international movie releases than there are international TV show releases. Howerver, near 2018, the growth of international movies started to decline while international TV shows constantly showed significant growth in the past few years."
      ]
    },
    {
      "cell_type": "code",
      "metadata": {
        "colab": {
          "base_uri": "https://localhost:8080/",
          "height": 513
        },
        "id": "G1dt5tAC5USf",
        "outputId": "4c84c637-f1bd-4e3b-d359-687a22b9c0c5"
      },
      "source": [
        "intmov_month_year_df = international_movies.groupby('year_added')['month_added'].value_counts().unstack().fillna(0).T\n",
        "fig, ax = plt.subplots(figsize=(11, 8))\n",
        "sns.heatmap(intmov_month_year_df, linewidths=0.025, cmap='BuPu')\n",
        "plt.title('International Movies Heatmap')\n",
        "plt.ylabel('Month')\n",
        "plt.xlabel('Year')\n",
        "plt.show()"
      ],
      "execution_count": null,
      "outputs": [
        {
          "output_type": "display_data",
          "data": {
            "image/png": "[encoded data removed]",
            "text/plain": [
              "<Figure size 792x576 with 2 Axes>"
            ]
          },
          "metadata": {
            "tags": [],
            "needs_background": "light"
          }
        }
      ]
    },
    {
      "cell_type": "markdown",
      "metadata": {
        "id": "Z_O2JBcj57Ye"
      },
      "source": [
        "In the heatmap above, we can see that a majority of international movies were added throughout the year in 2018. Then in December 2019, Netflix added the most international movie content.\n",
        "\n"
      ]
    },
    {
      "cell_type": "code",
      "metadata": {
        "id": "z7gPAUfBxrL9",
        "colab": {
          "base_uri": "https://localhost:8080/",
          "height": 513
        },
        "outputId": "1af43839-8c2c-40c5-8cd5-f77d81f5639f"
      },
      "source": [
        "intshow_month_year_df = international_shows.groupby('year_added')['month_added'].value_counts().unstack().fillna(0).T\n",
        "\n",
        "fig, ax = plt.subplots(figsize=(11, 8))\n",
        "sns.heatmap(intshow_month_year_df, linewidths=0.025, cmap='BuPu')\n",
        "plt.title('International TV Shows Heatmap')\n",
        "plt.ylabel('Month')\n",
        "plt.xlabel('Year')\n",
        "plt.show()"
      ],
      "execution_count": null,
      "outputs": [
        {
          "output_type": "display_data",
          "data": {
            "image/png": "[encoded data removed]",
            "text/plain": [
              "<Figure size 792x576 with 2 Axes>"
            ]
          },
          "metadata": {
            "tags": [],
            "needs_background": "light"
          }
        }
      ]
    },
    {
      "cell_type": "markdown",
      "metadata": {
        "id": "h1VasxP463A5"
      },
      "source": [
        "In the above heatmap, we can see that the majority of international TV shows were added throughout the year 2019."
      ]
    },
    {
      "cell_type": "markdown",
      "metadata": {
        "id": "CBpPUwMI7AMZ"
      },
      "source": [
        "# Inferences and Conclusion\n",
        "---\n",
        "It's clear that Netflix has grown over the years. We can see it from the data that the company took certain approaches in their marketing strategy to break into new markets around the world. Based on an article from Business Insider, Netflix has about 158 million subscribers worldwide, with 60 million from the US alone. Netflix's original subscriber base was based solely in the United States following its IPO. A large part of its success was due to the decision to expand to international markets. The popular markets prioritizes what content the company will release. In this case, we can see that a good amount of international movies and TV shows were added over the years as part of Netflix's global expansion."
      ]
    },
    {
      "cell_type": "markdown",
      "metadata": {
        "id": "AnHd8slt8Gdf"
      },
      "source": [
        "# References\n",
        "---\n",
        "- Link to the [dataset](https://www.kaggle.com/shivamb/netflix-shows).\n",
        "- Link to Business Insider [article](https://www.businessinsider.com/netflix-growth-comes-from-international-markets-2019-10?IR=T) on Netflix's growth."
      ]
    }
  ]
}